{
 "cells": [
  {
   "cell_type": "markdown",
   "id": "8a263799",
   "metadata": {},
   "source": [
    "# Data preprocessing\n",
    "\n",
    "Data preprocessing is the process of making raw data to clean data. This is the most crucial part of data the science. In this section, we will explore data first then we remove unwanted columns, remove duplicates, handle missing data, etc. After this step, we get clean data from raw data.\n"
   ]
  },
  {
   "cell_type": "markdown",
   "id": "4afdbe28",
   "metadata": {},
   "source": [
    "# Data cleaning\n",
    "\n",
    "After the explore our datasets may need to clean them for better analysis. Data coming in from multiple sources so It's possible to have an error in some values. This is where data cleaning becomes extremely important. In this section, we will delete unwanted columns, rename columns, correct appropriate data types, etc."
   ]
  },
  {
   "cell_type": "code",
   "execution_count": 558,
   "id": "6802c608",
   "metadata": {},
   "outputs": [],
   "source": [
    "import numpy as np\n",
    "import pandas as pd"
   ]
  },
  {
   "cell_type": "code",
   "execution_count": 559,
   "id": "7032ddf7",
   "metadata": {},
   "outputs": [
    {
     "data": {
      "text/html": [
       "<div>\n",
       "<style scoped>\n",
       "    .dataframe tbody tr th:only-of-type {\n",
       "        vertical-align: middle;\n",
       "    }\n",
       "\n",
       "    .dataframe tbody tr th {\n",
       "        vertical-align: top;\n",
       "    }\n",
       "\n",
       "    .dataframe thead th {\n",
       "        text-align: right;\n",
       "    }\n",
       "</style>\n",
       "<table border=\"1\" class=\"dataframe\">\n",
       "  <thead>\n",
       "    <tr style=\"text-align: right;\">\n",
       "      <th></th>\n",
       "      <th>Transaction_date</th>\n",
       "      <th>Transaction_ID</th>\n",
       "      <th>Gender</th>\n",
       "      <th>Age</th>\n",
       "      <th>Marital_status</th>\n",
       "      <th>State_names</th>\n",
       "      <th>Segment</th>\n",
       "      <th>Employees_status</th>\n",
       "      <th>Payment_method</th>\n",
       "      <th>Referal</th>\n",
       "      <th>Amount_spent</th>\n",
       "    </tr>\n",
       "  </thead>\n",
       "  <tbody>\n",
       "    <tr>\n",
       "      <th>0</th>\n",
       "      <td>1/1/2019</td>\n",
       "      <td>151200</td>\n",
       "      <td>Female</td>\n",
       "      <td>19.0</td>\n",
       "      <td>Single</td>\n",
       "      <td>Kansas</td>\n",
       "      <td>Basic</td>\n",
       "      <td>Unemployment</td>\n",
       "      <td>Other</td>\n",
       "      <td>1.0</td>\n",
       "      <td>2051.36</td>\n",
       "    </tr>\n",
       "    <tr>\n",
       "      <th>1</th>\n",
       "      <td>1/1/2019</td>\n",
       "      <td>151201</td>\n",
       "      <td>Male</td>\n",
       "      <td>49.0</td>\n",
       "      <td>Single</td>\n",
       "      <td>Illinois</td>\n",
       "      <td>Basic</td>\n",
       "      <td>self-employed</td>\n",
       "      <td>Card</td>\n",
       "      <td>0.0</td>\n",
       "      <td>544.04</td>\n",
       "    </tr>\n",
       "    <tr>\n",
       "      <th>2</th>\n",
       "      <td>1/1/2019</td>\n",
       "      <td>151202</td>\n",
       "      <td>Male</td>\n",
       "      <td>63.0</td>\n",
       "      <td>Married</td>\n",
       "      <td>New Mexico</td>\n",
       "      <td>Basic</td>\n",
       "      <td>workers</td>\n",
       "      <td>PayPal</td>\n",
       "      <td>1.0</td>\n",
       "      <td>1572.60</td>\n",
       "    </tr>\n",
       "  </tbody>\n",
       "</table>\n",
       "</div>"
      ],
      "text/plain": [
       "  Transaction_date  Transaction_ID  Gender   Age Marital_status State_names  \\\n",
       "0         1/1/2019          151200  Female  19.0         Single      Kansas   \n",
       "1         1/1/2019          151201    Male  49.0         Single    Illinois   \n",
       "2         1/1/2019          151202    Male  63.0        Married  New Mexico   \n",
       "\n",
       "  Segment Employees_status Payment_method  Referal  Amount_spent  \n",
       "0   Basic     Unemployment          Other      1.0       2051.36  \n",
       "1   Basic    self-employed           Card      0.0        544.04  \n",
       "2   Basic          workers         PayPal      1.0       1572.60  "
      ]
     },
     "execution_count": 559,
     "metadata": {},
     "output_type": "execute_result"
    }
   ],
   "source": [
    "# read csv file\n",
    "\n",
    "df = pd.read_csv('online_store_customer_data.csv')\n",
    "df.head(3)"
   ]
  },
  {
   "cell_type": "code",
   "execution_count": 560,
   "id": "19ad6671",
   "metadata": {},
   "outputs": [],
   "source": [
    "# Drop unwanted columns\n",
    "df.drop(['Transaction_ID'], axis=1, inplace=True)"
   ]
  },
  {
   "cell_type": "code",
   "execution_count": 561,
   "id": "2e8a41ad",
   "metadata": {},
   "outputs": [
    {
     "data": {
      "text/html": [
       "<div>\n",
       "<style scoped>\n",
       "    .dataframe tbody tr th:only-of-type {\n",
       "        vertical-align: middle;\n",
       "    }\n",
       "\n",
       "    .dataframe tbody tr th {\n",
       "        vertical-align: top;\n",
       "    }\n",
       "\n",
       "    .dataframe thead th {\n",
       "        text-align: right;\n",
       "    }\n",
       "</style>\n",
       "<table border=\"1\" class=\"dataframe\">\n",
       "  <thead>\n",
       "    <tr style=\"text-align: right;\">\n",
       "      <th></th>\n",
       "      <th>Date</th>\n",
       "      <th>Sex</th>\n",
       "      <th>Age</th>\n",
       "      <th>Marital_status</th>\n",
       "      <th>State_names</th>\n",
       "      <th>Segment</th>\n",
       "      <th>Employees_status</th>\n",
       "      <th>Payment_method</th>\n",
       "      <th>Referal</th>\n",
       "      <th>Amount_spent</th>\n",
       "    </tr>\n",
       "  </thead>\n",
       "  <tbody>\n",
       "    <tr>\n",
       "      <th>0</th>\n",
       "      <td>1/1/2019</td>\n",
       "      <td>Female</td>\n",
       "      <td>19.0</td>\n",
       "      <td>Single</td>\n",
       "      <td>Kansas</td>\n",
       "      <td>Basic</td>\n",
       "      <td>Unemployment</td>\n",
       "      <td>Other</td>\n",
       "      <td>1.0</td>\n",
       "      <td>2051.36</td>\n",
       "    </tr>\n",
       "    <tr>\n",
       "      <th>1</th>\n",
       "      <td>1/1/2019</td>\n",
       "      <td>Male</td>\n",
       "      <td>49.0</td>\n",
       "      <td>Single</td>\n",
       "      <td>Illinois</td>\n",
       "      <td>Basic</td>\n",
       "      <td>self-employed</td>\n",
       "      <td>Card</td>\n",
       "      <td>0.0</td>\n",
       "      <td>544.04</td>\n",
       "    </tr>\n",
       "    <tr>\n",
       "      <th>2</th>\n",
       "      <td>1/1/2019</td>\n",
       "      <td>Male</td>\n",
       "      <td>63.0</td>\n",
       "      <td>Married</td>\n",
       "      <td>New Mexico</td>\n",
       "      <td>Basic</td>\n",
       "      <td>workers</td>\n",
       "      <td>PayPal</td>\n",
       "      <td>1.0</td>\n",
       "      <td>1572.60</td>\n",
       "    </tr>\n",
       "  </tbody>\n",
       "</table>\n",
       "</div>"
      ],
      "text/plain": [
       "       Date     Sex   Age Marital_status State_names Segment Employees_status  \\\n",
       "0  1/1/2019  Female  19.0         Single      Kansas   Basic     Unemployment   \n",
       "1  1/1/2019    Male  49.0         Single    Illinois   Basic    self-employed   \n",
       "2  1/1/2019    Male  63.0        Married  New Mexico   Basic          workers   \n",
       "\n",
       "  Payment_method  Referal  Amount_spent  \n",
       "0          Other      1.0       2051.36  \n",
       "1           Card      0.0        544.04  \n",
       "2         PayPal      1.0       1572.60  "
      ]
     },
     "execution_count": 561,
     "metadata": {},
     "output_type": "execute_result"
    }
   ],
   "source": [
    "# create new df_col dataframe from df.copy() method. \n",
    "df_col = df.copy()\n",
    "\n",
    "# rename columns name\n",
    "df_col.rename(columns={\"Transaction_date\": \"Date\", \"Gender\": \"Sex\"}, inplace=True)\n",
    "df_col.head(3)"
   ]
  },
  {
   "cell_type": "code",
   "execution_count": 562,
   "id": "112d4650",
   "metadata": {},
   "outputs": [],
   "source": [
    "# Add a new ajusted column which value will be amount_spent * 100\n",
    "df_col['new_col'] = df_col['Amount_spent'] * 100"
   ]
  },
  {
   "cell_type": "code",
   "execution_count": 563,
   "id": "b2d50f1a",
   "metadata": {},
   "outputs": [
    {
     "data": {
      "text/html": [
       "<div>\n",
       "<style scoped>\n",
       "    .dataframe tbody tr th:only-of-type {\n",
       "        vertical-align: middle;\n",
       "    }\n",
       "\n",
       "    .dataframe tbody tr th {\n",
       "        vertical-align: top;\n",
       "    }\n",
       "\n",
       "    .dataframe thead th {\n",
       "        text-align: right;\n",
       "    }\n",
       "</style>\n",
       "<table border=\"1\" class=\"dataframe\">\n",
       "  <thead>\n",
       "    <tr style=\"text-align: right;\">\n",
       "      <th></th>\n",
       "      <th>Date</th>\n",
       "      <th>Sex</th>\n",
       "      <th>Age</th>\n",
       "      <th>Marital_status</th>\n",
       "      <th>State_names</th>\n",
       "      <th>Segment</th>\n",
       "      <th>Employees_status</th>\n",
       "      <th>Payment_method</th>\n",
       "      <th>Referal</th>\n",
       "      <th>Amount_spent</th>\n",
       "      <th>new_col</th>\n",
       "    </tr>\n",
       "  </thead>\n",
       "  <tbody>\n",
       "    <tr>\n",
       "      <th>0</th>\n",
       "      <td>1/1/2019</td>\n",
       "      <td>Female</td>\n",
       "      <td>19.0</td>\n",
       "      <td>Single</td>\n",
       "      <td>Kansas</td>\n",
       "      <td>Basic</td>\n",
       "      <td>Unemployment</td>\n",
       "      <td>Other</td>\n",
       "      <td>1.0</td>\n",
       "      <td>2051.36</td>\n",
       "      <td>205136.0</td>\n",
       "    </tr>\n",
       "    <tr>\n",
       "      <th>1</th>\n",
       "      <td>1/1/2019</td>\n",
       "      <td>Male</td>\n",
       "      <td>49.0</td>\n",
       "      <td>Single</td>\n",
       "      <td>Illinois</td>\n",
       "      <td>Basic</td>\n",
       "      <td>self-employed</td>\n",
       "      <td>Card</td>\n",
       "      <td>0.0</td>\n",
       "      <td>544.04</td>\n",
       "      <td>54404.0</td>\n",
       "    </tr>\n",
       "    <tr>\n",
       "      <th>2</th>\n",
       "      <td>1/1/2019</td>\n",
       "      <td>Male</td>\n",
       "      <td>63.0</td>\n",
       "      <td>Married</td>\n",
       "      <td>New Mexico</td>\n",
       "      <td>Basic</td>\n",
       "      <td>workers</td>\n",
       "      <td>PayPal</td>\n",
       "      <td>1.0</td>\n",
       "      <td>1572.60</td>\n",
       "      <td>157260.0</td>\n",
       "    </tr>\n",
       "  </tbody>\n",
       "</table>\n",
       "</div>"
      ],
      "text/plain": [
       "       Date     Sex   Age Marital_status State_names Segment Employees_status  \\\n",
       "0  1/1/2019  Female  19.0         Single      Kansas   Basic     Unemployment   \n",
       "1  1/1/2019    Male  49.0         Single    Illinois   Basic    self-employed   \n",
       "2  1/1/2019    Male  63.0        Married  New Mexico   Basic          workers   \n",
       "\n",
       "  Payment_method  Referal  Amount_spent   new_col  \n",
       "0          Other      1.0       2051.36  205136.0  \n",
       "1           Card      0.0        544.04   54404.0  \n",
       "2         PayPal      1.0       1572.60  157260.0  "
      ]
     },
     "execution_count": 563,
     "metadata": {},
     "output_type": "execute_result"
    }
   ],
   "source": [
    "df_col.head(3)"
   ]
  },
  {
   "cell_type": "code",
   "execution_count": 564,
   "id": "ee869b21",
   "metadata": {},
   "outputs": [],
   "source": [
    "# changing Female to Women and Male to Man in Sex column.\n",
    "#first argument in loc function is condition and second one is columns name. \n",
    "df_col.loc[df_col.Sex == \"Female\", 'Sex'] = 'Women' \n",
    "df_col.loc[df_col.Sex == \"Male\", 'Sex'] = 'Man'"
   ]
  },
  {
   "cell_type": "code",
   "execution_count": 565,
   "id": "09a028ae",
   "metadata": {},
   "outputs": [
    {
     "data": {
      "text/html": [
       "<div>\n",
       "<style scoped>\n",
       "    .dataframe tbody tr th:only-of-type {\n",
       "        vertical-align: middle;\n",
       "    }\n",
       "\n",
       "    .dataframe tbody tr th {\n",
       "        vertical-align: top;\n",
       "    }\n",
       "\n",
       "    .dataframe thead th {\n",
       "        text-align: right;\n",
       "    }\n",
       "</style>\n",
       "<table border=\"1\" class=\"dataframe\">\n",
       "  <thead>\n",
       "    <tr style=\"text-align: right;\">\n",
       "      <th></th>\n",
       "      <th>Date</th>\n",
       "      <th>Sex</th>\n",
       "      <th>Age</th>\n",
       "      <th>Marital_status</th>\n",
       "      <th>State_names</th>\n",
       "      <th>Segment</th>\n",
       "      <th>Employees_status</th>\n",
       "      <th>Payment_method</th>\n",
       "      <th>Referal</th>\n",
       "      <th>Amount_spent</th>\n",
       "      <th>new_col</th>\n",
       "    </tr>\n",
       "  </thead>\n",
       "  <tbody>\n",
       "    <tr>\n",
       "      <th>0</th>\n",
       "      <td>1/1/2019</td>\n",
       "      <td>Women</td>\n",
       "      <td>19.0</td>\n",
       "      <td>Single</td>\n",
       "      <td>Kansas</td>\n",
       "      <td>Basic</td>\n",
       "      <td>Unemployment</td>\n",
       "      <td>Other</td>\n",
       "      <td>1.0</td>\n",
       "      <td>2051.36</td>\n",
       "      <td>205136.0</td>\n",
       "    </tr>\n",
       "    <tr>\n",
       "      <th>1</th>\n",
       "      <td>1/1/2019</td>\n",
       "      <td>Man</td>\n",
       "      <td>49.0</td>\n",
       "      <td>Single</td>\n",
       "      <td>Illinois</td>\n",
       "      <td>Basic</td>\n",
       "      <td>self-employed</td>\n",
       "      <td>Card</td>\n",
       "      <td>0.0</td>\n",
       "      <td>544.04</td>\n",
       "      <td>54404.0</td>\n",
       "    </tr>\n",
       "    <tr>\n",
       "      <th>2</th>\n",
       "      <td>1/1/2019</td>\n",
       "      <td>Man</td>\n",
       "      <td>63.0</td>\n",
       "      <td>Married</td>\n",
       "      <td>New Mexico</td>\n",
       "      <td>Basic</td>\n",
       "      <td>workers</td>\n",
       "      <td>PayPal</td>\n",
       "      <td>1.0</td>\n",
       "      <td>1572.60</td>\n",
       "      <td>157260.0</td>\n",
       "    </tr>\n",
       "  </tbody>\n",
       "</table>\n",
       "</div>"
      ],
      "text/plain": [
       "       Date    Sex   Age Marital_status State_names Segment Employees_status  \\\n",
       "0  1/1/2019  Women  19.0         Single      Kansas   Basic     Unemployment   \n",
       "1  1/1/2019    Man  49.0         Single    Illinois   Basic    self-employed   \n",
       "2  1/1/2019    Man  63.0        Married  New Mexico   Basic          workers   \n",
       "\n",
       "  Payment_method  Referal  Amount_spent   new_col  \n",
       "0          Other      1.0       2051.36  205136.0  \n",
       "1           Card      0.0        544.04   54404.0  \n",
       "2         PayPal      1.0       1572.60  157260.0  "
      ]
     },
     "execution_count": 565,
     "metadata": {},
     "output_type": "execute_result"
    }
   ],
   "source": [
    "df_col.head(3)"
   ]
  },
  {
   "cell_type": "markdown",
   "id": "9b12af1c",
   "metadata": {},
   "source": [
    "Now Sex columns values are changed Female to Woman and Male to Man"
   ]
  },
  {
   "cell_type": "code",
   "execution_count": 566,
   "id": "50a0236b",
   "metadata": {},
   "outputs": [
    {
     "name": "stdout",
     "output_type": "stream",
     "text": [
      "<class 'pandas.core.frame.DataFrame'>\n",
      "RangeIndex: 2512 entries, 0 to 2511\n",
      "Data columns (total 11 columns):\n",
      " #   Column            Non-Null Count  Dtype  \n",
      "---  ------            --------------  -----  \n",
      " 0   Date              2512 non-null   object \n",
      " 1   Sex               2484 non-null   object \n",
      " 2   Age               2470 non-null   float64\n",
      " 3   Marital_status    2512 non-null   object \n",
      " 4   State_names       2512 non-null   object \n",
      " 5   Segment           2512 non-null   object \n",
      " 6   Employees_status  2486 non-null   object \n",
      " 7   Payment_method    2512 non-null   object \n",
      " 8   Referal           2357 non-null   float64\n",
      " 9   Amount_spent      2270 non-null   float64\n",
      " 10  new_col           2270 non-null   float64\n",
      "dtypes: float64(4), object(7)\n",
      "memory usage: 216.0+ KB\n"
     ]
    }
   ],
   "source": [
    "#Datatypes change\n",
    "\n",
    "df_col.info()"
   ]
  },
  {
   "cell_type": "markdown",
   "id": "61023c7d",
   "metadata": {},
   "source": [
    "In our Date columns, it's object type so now we will convert this to date types, and also we will convert Referal columns float64 to float32."
   ]
  },
  {
   "cell_type": "code",
   "execution_count": 567,
   "id": "ed3eeaec",
   "metadata": {},
   "outputs": [],
   "source": [
    "# change object type to datetime64 format\n",
    "df_col['Date'] = df_col['Date'].astype('datetime64[ns]')\n",
    "\n",
    "# change float64 to float32 of Referal columns\n",
    "df_col['Referal'] = df_col['Referal'].astype('float32')"
   ]
  },
  {
   "cell_type": "code",
   "execution_count": 568,
   "id": "9cf70815",
   "metadata": {},
   "outputs": [
    {
     "name": "stdout",
     "output_type": "stream",
     "text": [
      "<class 'pandas.core.frame.DataFrame'>\n",
      "RangeIndex: 2512 entries, 0 to 2511\n",
      "Data columns (total 11 columns):\n",
      " #   Column            Non-Null Count  Dtype         \n",
      "---  ------            --------------  -----         \n",
      " 0   Date              2512 non-null   datetime64[ns]\n",
      " 1   Sex               2484 non-null   object        \n",
      " 2   Age               2470 non-null   float64       \n",
      " 3   Marital_status    2512 non-null   object        \n",
      " 4   State_names       2512 non-null   object        \n",
      " 5   Segment           2512 non-null   object        \n",
      " 6   Employees_status  2486 non-null   object        \n",
      " 7   Payment_method    2512 non-null   object        \n",
      " 8   Referal           2357 non-null   float32       \n",
      " 9   Amount_spent      2270 non-null   float64       \n",
      " 10  new_col           2270 non-null   float64       \n",
      "dtypes: datetime64[ns](1), float32(1), float64(3), object(6)\n",
      "memory usage: 206.2+ KB\n"
     ]
    }
   ],
   "source": [
    "df_col.info()"
   ]
  },
  {
   "cell_type": "markdown",
   "id": "bb66ebc2",
   "metadata": {},
   "source": [
    "##  Remove duplicate"
   ]
  },
  {
   "cell_type": "code",
   "execution_count": 569,
   "id": "e1475dbd",
   "metadata": {},
   "outputs": [
    {
     "data": {
      "text/plain": [
       "12"
      ]
     },
     "execution_count": 569,
     "metadata": {},
     "output_type": "execute_result"
    }
   ],
   "source": [
    "# Display duplicated entries \n",
    "df.duplicated().sum()"
   ]
  },
  {
   "cell_type": "code",
   "execution_count": 570,
   "id": "d7fbd273",
   "metadata": {},
   "outputs": [
    {
     "data": {
      "text/html": [
       "<div>\n",
       "<style scoped>\n",
       "    .dataframe tbody tr th:only-of-type {\n",
       "        vertical-align: middle;\n",
       "    }\n",
       "\n",
       "    .dataframe tbody tr th {\n",
       "        vertical-align: top;\n",
       "    }\n",
       "\n",
       "    .dataframe thead th {\n",
       "        text-align: right;\n",
       "    }\n",
       "</style>\n",
       "<table border=\"1\" class=\"dataframe\">\n",
       "  <thead>\n",
       "    <tr style=\"text-align: right;\">\n",
       "      <th></th>\n",
       "      <th>Transaction_date</th>\n",
       "      <th>Gender</th>\n",
       "      <th>Age</th>\n",
       "      <th>Marital_status</th>\n",
       "      <th>State_names</th>\n",
       "      <th>Segment</th>\n",
       "      <th>Employees_status</th>\n",
       "      <th>Payment_method</th>\n",
       "      <th>Referal</th>\n",
       "      <th>Amount_spent</th>\n",
       "    </tr>\n",
       "  </thead>\n",
       "  <tbody>\n",
       "    <tr>\n",
       "      <th>64</th>\n",
       "      <td>1/25/2019</td>\n",
       "      <td>Male</td>\n",
       "      <td>73.0</td>\n",
       "      <td>Married</td>\n",
       "      <td>West Virginia</td>\n",
       "      <td>Basic</td>\n",
       "      <td>Employees</td>\n",
       "      <td>PayPal</td>\n",
       "      <td>0.0</td>\n",
       "      <td>1397.09</td>\n",
       "    </tr>\n",
       "    <tr>\n",
       "      <th>65</th>\n",
       "      <td>1/26/2019</td>\n",
       "      <td>Male</td>\n",
       "      <td>55.0</td>\n",
       "      <td>Married</td>\n",
       "      <td>Kansas</td>\n",
       "      <td>Basic</td>\n",
       "      <td>Employees</td>\n",
       "      <td>Other</td>\n",
       "      <td>1.0</td>\n",
       "      <td>1277.64</td>\n",
       "    </tr>\n",
       "    <tr>\n",
       "      <th>66</th>\n",
       "      <td>1/26/2019</td>\n",
       "      <td>Female</td>\n",
       "      <td>72.0</td>\n",
       "      <td>Married</td>\n",
       "      <td>Iowa</td>\n",
       "      <td>Silver</td>\n",
       "      <td>Unemployment</td>\n",
       "      <td>PayPal</td>\n",
       "      <td>NaN</td>\n",
       "      <td>515.77</td>\n",
       "    </tr>\n",
       "    <tr>\n",
       "      <th>67</th>\n",
       "      <td>1/26/2019</td>\n",
       "      <td>Male</td>\n",
       "      <td>15.0</td>\n",
       "      <td>Married</td>\n",
       "      <td>South Carolina</td>\n",
       "      <td>Basic</td>\n",
       "      <td>self-employed</td>\n",
       "      <td>Other</td>\n",
       "      <td>1.0</td>\n",
       "      <td>790.10</td>\n",
       "    </tr>\n",
       "    <tr>\n",
       "      <th>68</th>\n",
       "      <td>1/27/2019</td>\n",
       "      <td>Female</td>\n",
       "      <td>63.0</td>\n",
       "      <td>Single</td>\n",
       "      <td>Texas</td>\n",
       "      <td>Gold</td>\n",
       "      <td>Employees</td>\n",
       "      <td>Card</td>\n",
       "      <td>1.0</td>\n",
       "      <td>1218.56</td>\n",
       "    </tr>\n",
       "    <tr>\n",
       "      <th>109</th>\n",
       "      <td>2/6/2019</td>\n",
       "      <td>Male</td>\n",
       "      <td>60.0</td>\n",
       "      <td>Married</td>\n",
       "      <td>Utah</td>\n",
       "      <td>Silver</td>\n",
       "      <td>Unemployment</td>\n",
       "      <td>Other</td>\n",
       "      <td>1.0</td>\n",
       "      <td>433.20</td>\n",
       "    </tr>\n",
       "    <tr>\n",
       "      <th>110</th>\n",
       "      <td>2/7/2019</td>\n",
       "      <td>Female</td>\n",
       "      <td>45.0</td>\n",
       "      <td>Married</td>\n",
       "      <td>Missouri</td>\n",
       "      <td>Platinum</td>\n",
       "      <td>workers</td>\n",
       "      <td>Other</td>\n",
       "      <td>1.0</td>\n",
       "      <td>929.89</td>\n",
       "    </tr>\n",
       "    <tr>\n",
       "      <th>111</th>\n",
       "      <td>2/8/2019</td>\n",
       "      <td>Male</td>\n",
       "      <td>33.0</td>\n",
       "      <td>Single</td>\n",
       "      <td>Arizona</td>\n",
       "      <td>Silver</td>\n",
       "      <td>workers</td>\n",
       "      <td>PayPal</td>\n",
       "      <td>0.0</td>\n",
       "      <td>2560.26</td>\n",
       "    </tr>\n",
       "    <tr>\n",
       "      <th>112</th>\n",
       "      <td>2/8/2019</td>\n",
       "      <td>Male</td>\n",
       "      <td>24.0</td>\n",
       "      <td>Married</td>\n",
       "      <td>South Carolina</td>\n",
       "      <td>Basic</td>\n",
       "      <td>Unemployment</td>\n",
       "      <td>Other</td>\n",
       "      <td>0.0</td>\n",
       "      <td>NaN</td>\n",
       "    </tr>\n",
       "    <tr>\n",
       "      <th>113</th>\n",
       "      <td>2/8/2019</td>\n",
       "      <td>Female</td>\n",
       "      <td>53.0</td>\n",
       "      <td>Single</td>\n",
       "      <td>Colorado</td>\n",
       "      <td>Basic</td>\n",
       "      <td>self-employed</td>\n",
       "      <td>Other</td>\n",
       "      <td>1.0</td>\n",
       "      <td>1888.69</td>\n",
       "    </tr>\n",
       "    <tr>\n",
       "      <th>114</th>\n",
       "      <td>2/8/2019</td>\n",
       "      <td>Female</td>\n",
       "      <td>70.0</td>\n",
       "      <td>Married</td>\n",
       "      <td>New Hampshire</td>\n",
       "      <td>Missing</td>\n",
       "      <td>Employees</td>\n",
       "      <td>Card</td>\n",
       "      <td>1.0</td>\n",
       "      <td>685.49</td>\n",
       "    </tr>\n",
       "    <tr>\n",
       "      <th>115</th>\n",
       "      <td>2/8/2019</td>\n",
       "      <td>Male</td>\n",
       "      <td>16.0</td>\n",
       "      <td>Married</td>\n",
       "      <td>Nebraska</td>\n",
       "      <td>Basic</td>\n",
       "      <td>workers</td>\n",
       "      <td>PayPal</td>\n",
       "      <td>1.0</td>\n",
       "      <td>1264.73</td>\n",
       "    </tr>\n",
       "  </tbody>\n",
       "</table>\n",
       "</div>"
      ],
      "text/plain": [
       "    Transaction_date  Gender   Age Marital_status     State_names   Segment  \\\n",
       "64         1/25/2019    Male  73.0        Married   West Virginia     Basic   \n",
       "65         1/26/2019    Male  55.0        Married          Kansas     Basic   \n",
       "66         1/26/2019  Female  72.0        Married            Iowa    Silver   \n",
       "67         1/26/2019    Male  15.0        Married  South Carolina     Basic   \n",
       "68         1/27/2019  Female  63.0         Single           Texas      Gold   \n",
       "109         2/6/2019    Male  60.0        Married            Utah    Silver   \n",
       "110         2/7/2019  Female  45.0        Married        Missouri  Platinum   \n",
       "111         2/8/2019    Male  33.0         Single         Arizona    Silver   \n",
       "112         2/8/2019    Male  24.0        Married  South Carolina     Basic   \n",
       "113         2/8/2019  Female  53.0         Single        Colorado     Basic   \n",
       "114         2/8/2019  Female  70.0        Married   New Hampshire   Missing   \n",
       "115         2/8/2019    Male  16.0        Married        Nebraska     Basic   \n",
       "\n",
       "    Employees_status Payment_method  Referal  Amount_spent  \n",
       "64         Employees         PayPal      0.0       1397.09  \n",
       "65         Employees          Other      1.0       1277.64  \n",
       "66      Unemployment         PayPal      NaN        515.77  \n",
       "67     self-employed          Other      1.0        790.10  \n",
       "68         Employees           Card      1.0       1218.56  \n",
       "109     Unemployment          Other      1.0        433.20  \n",
       "110          workers          Other      1.0        929.89  \n",
       "111          workers         PayPal      0.0       2560.26  \n",
       "112     Unemployment          Other      0.0           NaN  \n",
       "113    self-employed          Other      1.0       1888.69  \n",
       "114        Employees           Card      1.0        685.49  \n",
       "115          workers         PayPal      1.0       1264.73  "
      ]
     },
     "execution_count": 570,
     "metadata": {},
     "output_type": "execute_result"
    }
   ],
   "source": [
    "# duplicate rows dispaly, keep arguments will--- 'first', 'last' and False\n",
    "duplicate_value = df.duplicated(keep='first')\n",
    "\n",
    "df.loc[duplicate_value, :]"
   ]
  },
  {
   "cell_type": "code",
   "execution_count": 571,
   "id": "8c044c09",
   "metadata": {},
   "outputs": [],
   "source": [
    "# dropping ALL duplicate values\n",
    "df.drop_duplicates(keep = 'first', inplace = True)"
   ]
  },
  {
   "cell_type": "code",
   "execution_count": 572,
   "id": "3db5f503",
   "metadata": {},
   "outputs": [
    {
     "data": {
      "text/html": [
       "<div>\n",
       "<style scoped>\n",
       "    .dataframe tbody tr th:only-of-type {\n",
       "        vertical-align: middle;\n",
       "    }\n",
       "\n",
       "    .dataframe tbody tr th {\n",
       "        vertical-align: top;\n",
       "    }\n",
       "\n",
       "    .dataframe thead th {\n",
       "        text-align: right;\n",
       "    }\n",
       "</style>\n",
       "<table border=\"1\" class=\"dataframe\">\n",
       "  <thead>\n",
       "    <tr style=\"text-align: right;\">\n",
       "      <th></th>\n",
       "      <th>Date</th>\n",
       "      <th>Sex</th>\n",
       "      <th>Age</th>\n",
       "      <th>Marital_status</th>\n",
       "      <th>State_names</th>\n",
       "      <th>Segment</th>\n",
       "      <th>Employees_status</th>\n",
       "      <th>Payment_method</th>\n",
       "      <th>Referal</th>\n",
       "      <th>Amount_spent</th>\n",
       "      <th>new_col</th>\n",
       "    </tr>\n",
       "  </thead>\n",
       "  <tbody>\n",
       "    <tr>\n",
       "      <th>0</th>\n",
       "      <td>2019-01-01</td>\n",
       "      <td>Women</td>\n",
       "      <td>19.0</td>\n",
       "      <td>Single</td>\n",
       "      <td>Kansas</td>\n",
       "      <td>Basic</td>\n",
       "      <td>Unemployment</td>\n",
       "      <td>Other</td>\n",
       "      <td>1.0</td>\n",
       "      <td>2051.36</td>\n",
       "      <td>205136.0</td>\n",
       "    </tr>\n",
       "    <tr>\n",
       "      <th>1</th>\n",
       "      <td>2019-01-01</td>\n",
       "      <td>Man</td>\n",
       "      <td>49.0</td>\n",
       "      <td>Single</td>\n",
       "      <td>Illinois</td>\n",
       "      <td>Basic</td>\n",
       "      <td>self-employed</td>\n",
       "      <td>Card</td>\n",
       "      <td>0.0</td>\n",
       "      <td>544.04</td>\n",
       "      <td>54404.0</td>\n",
       "    </tr>\n",
       "    <tr>\n",
       "      <th>2</th>\n",
       "      <td>2019-01-01</td>\n",
       "      <td>Man</td>\n",
       "      <td>63.0</td>\n",
       "      <td>Married</td>\n",
       "      <td>New Mexico</td>\n",
       "      <td>Basic</td>\n",
       "      <td>workers</td>\n",
       "      <td>PayPal</td>\n",
       "      <td>1.0</td>\n",
       "      <td>1572.60</td>\n",
       "      <td>157260.0</td>\n",
       "    </tr>\n",
       "  </tbody>\n",
       "</table>\n",
       "</div>"
      ],
      "text/plain": [
       "        Date    Sex   Age Marital_status State_names Segment Employees_status  \\\n",
       "0 2019-01-01  Women  19.0         Single      Kansas   Basic     Unemployment   \n",
       "1 2019-01-01    Man  49.0         Single    Illinois   Basic    self-employed   \n",
       "2 2019-01-01    Man  63.0        Married  New Mexico   Basic          workers   \n",
       "\n",
       "  Payment_method  Referal  Amount_spent   new_col  \n",
       "0          Other      1.0       2051.36  205136.0  \n",
       "1           Card      0.0        544.04   54404.0  \n",
       "2         PayPal      1.0       1572.60  157260.0  "
      ]
     },
     "execution_count": 572,
     "metadata": {},
     "output_type": "execute_result"
    }
   ],
   "source": [
    "df_col.head(3)"
   ]
  },
  {
   "cell_type": "markdown",
   "id": "c743a8be",
   "metadata": {},
   "source": [
    "## Handling missing values"
   ]
  },
  {
   "cell_type": "markdown",
   "id": "7ef60a88",
   "metadata": {},
   "source": [
    "Handling missing values in the common task in the data pre-processing part. For many reasons most of the time we will encounter missing values. Without dealing with this we can't do the proper model building. For this section first, we will find out missing values then we decided how to handle them. We can handle this by removing affected columns or rows or replacing appropriate values there."
   ]
  },
  {
   "cell_type": "code",
   "execution_count": 573,
   "id": "5cfe6af5",
   "metadata": {},
   "outputs": [
    {
     "data": {
      "text/plain": [
       "Amount_spent        241\n",
       "Referal             154\n",
       "Age                  42\n",
       "Gender               28\n",
       "Employees_status     26\n",
       "Transaction_date      0\n",
       "Marital_status        0\n",
       "State_names           0\n",
       "Segment               0\n",
       "Payment_method        0\n",
       "dtype: int64"
      ]
     },
     "execution_count": 573,
     "metadata": {},
     "output_type": "execute_result"
    }
   ],
   "source": [
    "df.isna().sum().sort_values(ascending=False)"
   ]
  },
  {
   "cell_type": "markdown",
   "id": "ed643470",
   "metadata": {},
   "source": [
    "If we have less Nan value then we can delete entire rows by dropna() function. For this function, we will add columns name in subset parameter."
   ]
  },
  {
   "cell_type": "code",
   "execution_count": 574,
   "id": "a3465190",
   "metadata": {},
   "outputs": [],
   "source": [
    "# df copy to df_copy\n",
    "df_new = df.copy()"
   ]
  },
  {
   "cell_type": "code",
   "execution_count": 575,
   "id": "8af74091",
   "metadata": {},
   "outputs": [
    {
     "data": {
      "text/html": [
       "<div>\n",
       "<style scoped>\n",
       "    .dataframe tbody tr th:only-of-type {\n",
       "        vertical-align: middle;\n",
       "    }\n",
       "\n",
       "    .dataframe tbody tr th {\n",
       "        vertical-align: top;\n",
       "    }\n",
       "\n",
       "    .dataframe thead th {\n",
       "        text-align: right;\n",
       "    }\n",
       "</style>\n",
       "<table border=\"1\" class=\"dataframe\">\n",
       "  <thead>\n",
       "    <tr style=\"text-align: right;\">\n",
       "      <th></th>\n",
       "      <th>Transaction_date</th>\n",
       "      <th>Gender</th>\n",
       "      <th>Age</th>\n",
       "      <th>Marital_status</th>\n",
       "      <th>State_names</th>\n",
       "      <th>Segment</th>\n",
       "      <th>Employees_status</th>\n",
       "      <th>Payment_method</th>\n",
       "      <th>Referal</th>\n",
       "      <th>Amount_spent</th>\n",
       "    </tr>\n",
       "  </thead>\n",
       "  <tbody>\n",
       "    <tr>\n",
       "      <th>0</th>\n",
       "      <td>1/1/2019</td>\n",
       "      <td>Female</td>\n",
       "      <td>19.0</td>\n",
       "      <td>Single</td>\n",
       "      <td>Kansas</td>\n",
       "      <td>Basic</td>\n",
       "      <td>Unemployment</td>\n",
       "      <td>Other</td>\n",
       "      <td>1.0</td>\n",
       "      <td>2051.36</td>\n",
       "    </tr>\n",
       "    <tr>\n",
       "      <th>1</th>\n",
       "      <td>1/1/2019</td>\n",
       "      <td>Male</td>\n",
       "      <td>49.0</td>\n",
       "      <td>Single</td>\n",
       "      <td>Illinois</td>\n",
       "      <td>Basic</td>\n",
       "      <td>self-employed</td>\n",
       "      <td>Card</td>\n",
       "      <td>0.0</td>\n",
       "      <td>544.04</td>\n",
       "    </tr>\n",
       "  </tbody>\n",
       "</table>\n",
       "</div>"
      ],
      "text/plain": [
       "  Transaction_date  Gender   Age Marital_status State_names Segment  \\\n",
       "0         1/1/2019  Female  19.0         Single      Kansas   Basic   \n",
       "1         1/1/2019    Male  49.0         Single    Illinois   Basic   \n",
       "\n",
       "  Employees_status Payment_method  Referal  Amount_spent  \n",
       "0     Unemployment          Other      1.0       2051.36  \n",
       "1    self-employed           Card      0.0        544.04  "
      ]
     },
     "execution_count": 575,
     "metadata": {},
     "output_type": "execute_result"
    }
   ],
   "source": [
    "df_new.head(2)"
   ]
  },
  {
   "cell_type": "code",
   "execution_count": 576,
   "id": "9e77ab1d",
   "metadata": {},
   "outputs": [],
   "source": [
    "#Delete Nan rows of Job Columns\n",
    "df_new.dropna(subset = [\"Employees_status\"], inplace=True)"
   ]
  },
  {
   "cell_type": "markdown",
   "id": "9c6b329c",
   "metadata": {},
   "source": [
    "#Delete entire columns\n",
    "\n",
    "If we have a large number of nan values in particular columns then dropping those columns might be a good decision rather than imputing."
   ]
  },
  {
   "cell_type": "code",
   "execution_count": 577,
   "id": "550c5168",
   "metadata": {},
   "outputs": [],
   "source": [
    "df_new.drop(columns=['Amount_spent'], inplace=True)"
   ]
  },
  {
   "cell_type": "code",
   "execution_count": 578,
   "id": "dbfd3304",
   "metadata": {},
   "outputs": [
    {
     "data": {
      "text/plain": [
       "Referal             153\n",
       "Age                  42\n",
       "Gender               27\n",
       "Transaction_date      0\n",
       "Marital_status        0\n",
       "State_names           0\n",
       "Segment               0\n",
       "Employees_status      0\n",
       "Payment_method        0\n",
       "dtype: int64"
      ]
     },
     "execution_count": 578,
     "metadata": {},
     "output_type": "execute_result"
    }
   ],
   "source": [
    "df_new.isna().sum().sort_values(ascending=False)"
   ]
  },
  {
   "cell_type": "markdown",
   "id": "5af84c12",
   "metadata": {},
   "source": [
    "#Impute missing values\n",
    "\n",
    "Sometimes if we delete entire columns that will be not the appropriate approach. Delete columns can affect our model building because we will lose our main features. For imputing we have many approaches so here are some of the most popular techniques."
   ]
  },
  {
   "cell_type": "markdown",
   "id": "e69c44ea",
   "metadata": {},
   "source": [
    "Method 1 - Impute fixed value like 0, 'Unknown' or 'Missing' etc. We inpute Unknown in Gender columns"
   ]
  },
  {
   "cell_type": "code",
   "execution_count": 579,
   "id": "9b14345f",
   "metadata": {},
   "outputs": [],
   "source": [
    "df['Gender'].fillna('Unknown', inplace=True)"
   ]
  },
  {
   "cell_type": "markdown",
   "id": "4b92a585",
   "metadata": {},
   "source": [
    "Method 2 - Impute Mean, Median and Mode"
   ]
  },
  {
   "cell_type": "code",
   "execution_count": 580,
   "id": "d8882939",
   "metadata": {},
   "outputs": [],
   "source": [
    "# Impute Mean in Amount_spent columns\n",
    "mean_amount_spent = df['Amount_spent'].mean()\n",
    "df['Amount_spent'].fillna(mean_amount_spent, inplace=True)\n",
    "\n",
    "#Impute Median in Age column\n",
    "median_age = df['Age'].median()\n",
    "df['Age'].fillna(median_age, inplace=True)\n",
    "\n",
    "# Impute Mode in Employees_status column\n",
    "mode_emp = df['Employees_status'].mode().iloc[0]\n",
    "df['Employees_status'].fillna(mode_emp, inplace=True)"
   ]
  },
  {
   "cell_type": "markdown",
   "id": "ef9998f2",
   "metadata": {},
   "source": [
    "Method 3 - Imputing forward fill or backfill by ffill and bfill. In ffill missing value impute from the value of the above row and for bfill it's taken from the below rows value."
   ]
  },
  {
   "cell_type": "code",
   "execution_count": 581,
   "id": "6a2ae029",
   "metadata": {},
   "outputs": [],
   "source": [
    "df['Referal'].fillna(method='ffill', inplace=True)"
   ]
  },
  {
   "cell_type": "code",
   "execution_count": 582,
   "id": "73d81b62",
   "metadata": {},
   "outputs": [
    {
     "data": {
      "text/plain": [
       "0"
      ]
     },
     "execution_count": 582,
     "metadata": {},
     "output_type": "execute_result"
    }
   ],
   "source": [
    "df.isna().sum().sum()"
   ]
  },
  {
   "cell_type": "code",
   "execution_count": 583,
   "id": "e3958965",
   "metadata": {},
   "outputs": [
    {
     "data": {
      "text/html": [
       "<div>\n",
       "<style scoped>\n",
       "    .dataframe tbody tr th:only-of-type {\n",
       "        vertical-align: middle;\n",
       "    }\n",
       "\n",
       "    .dataframe tbody tr th {\n",
       "        vertical-align: top;\n",
       "    }\n",
       "\n",
       "    .dataframe thead th {\n",
       "        text-align: right;\n",
       "    }\n",
       "</style>\n",
       "<table border=\"1\" class=\"dataframe\">\n",
       "  <thead>\n",
       "    <tr style=\"text-align: right;\">\n",
       "      <th></th>\n",
       "      <th>Transaction_date</th>\n",
       "      <th>Gender</th>\n",
       "      <th>Age</th>\n",
       "      <th>Marital_status</th>\n",
       "      <th>State_names</th>\n",
       "      <th>Segment</th>\n",
       "      <th>Employees_status</th>\n",
       "      <th>Payment_method</th>\n",
       "      <th>Referal</th>\n",
       "      <th>Amount_spent</th>\n",
       "    </tr>\n",
       "  </thead>\n",
       "  <tbody>\n",
       "    <tr>\n",
       "      <th>0</th>\n",
       "      <td>1/1/2019</td>\n",
       "      <td>Female</td>\n",
       "      <td>19.0</td>\n",
       "      <td>Single</td>\n",
       "      <td>Kansas</td>\n",
       "      <td>Basic</td>\n",
       "      <td>Unemployment</td>\n",
       "      <td>Other</td>\n",
       "      <td>1.0</td>\n",
       "      <td>2051.36</td>\n",
       "    </tr>\n",
       "    <tr>\n",
       "      <th>1</th>\n",
       "      <td>1/1/2019</td>\n",
       "      <td>Male</td>\n",
       "      <td>49.0</td>\n",
       "      <td>Single</td>\n",
       "      <td>Illinois</td>\n",
       "      <td>Basic</td>\n",
       "      <td>self-employed</td>\n",
       "      <td>Card</td>\n",
       "      <td>0.0</td>\n",
       "      <td>544.04</td>\n",
       "    </tr>\n",
       "    <tr>\n",
       "      <th>2</th>\n",
       "      <td>1/1/2019</td>\n",
       "      <td>Male</td>\n",
       "      <td>63.0</td>\n",
       "      <td>Married</td>\n",
       "      <td>New Mexico</td>\n",
       "      <td>Basic</td>\n",
       "      <td>workers</td>\n",
       "      <td>PayPal</td>\n",
       "      <td>1.0</td>\n",
       "      <td>1572.60</td>\n",
       "    </tr>\n",
       "  </tbody>\n",
       "</table>\n",
       "</div>"
      ],
      "text/plain": [
       "  Transaction_date  Gender   Age Marital_status State_names Segment  \\\n",
       "0         1/1/2019  Female  19.0         Single      Kansas   Basic   \n",
       "1         1/1/2019    Male  49.0         Single    Illinois   Basic   \n",
       "2         1/1/2019    Male  63.0        Married  New Mexico   Basic   \n",
       "\n",
       "  Employees_status Payment_method  Referal  Amount_spent  \n",
       "0     Unemployment          Other      1.0       2051.36  \n",
       "1    self-employed           Card      0.0        544.04  \n",
       "2          workers         PayPal      1.0       1572.60  "
      ]
     },
     "execution_count": 583,
     "metadata": {},
     "output_type": "execute_result"
    }
   ],
   "source": [
    "df.head(3)"
   ]
  },
  {
   "cell_type": "markdown",
   "id": "ca57d042",
   "metadata": {},
   "source": [
    "Now we deal with all missing values with different methods. So now we haven't any null values."
   ]
  },
  {
   "cell_type": "markdown",
   "id": "fbb761ee",
   "metadata": {},
   "source": [
    "# Memory management\n",
    "\n",
    "When we work on large datasets, There we get one big issue is a memory problem. We need too large resources for dealing with this. But there are some methods in pandas to deal with this. Here are some methods or strategies to deal with this problem with help of pandas."
   ]
  },
  {
   "cell_type": "code",
   "execution_count": 584,
   "id": "86082469",
   "metadata": {},
   "outputs": [],
   "source": [
    "df_memory = df.copy()"
   ]
  },
  {
   "cell_type": "code",
   "execution_count": 585,
   "id": "1b1792c8",
   "metadata": {},
   "outputs": [
    {
     "name": "stdout",
     "output_type": "stream",
     "text": [
      " Total memory taking df_memory dataframe is : 1.15 MB \n"
     ]
    }
   ],
   "source": [
    "memory_usage = df_memory.memory_usage(deep=True)\n",
    "memory_usage_in_mbs = round(np.sum(memory_usage / 1024 ** 2), 3)\n",
    "print(f\" Total memory taking df_memory dataframe is : {memory_usage_in_mbs:.2f} MB \")"
   ]
  },
  {
   "cell_type": "markdown",
   "id": "681fc1ff",
   "metadata": {},
   "source": [
    "Change object to category datatypes"
   ]
  },
  {
   "cell_type": "code",
   "execution_count": 586,
   "id": "5f6d9797",
   "metadata": {},
   "outputs": [],
   "source": [
    "# Object datatype to category convert\n",
    "df_memory[df_memory.select_dtypes(['object']).columns] = df_memory.select_dtypes(['object']).apply(lambda x: x.astype('category'))"
   ]
  },
  {
   "cell_type": "code",
   "execution_count": 587,
   "id": "9ab69470",
   "metadata": {},
   "outputs": [
    {
     "name": "stdout",
     "output_type": "stream",
     "text": [
      "<class 'pandas.core.frame.DataFrame'>\n",
      "Int64Index: 2500 entries, 0 to 2511\n",
      "Data columns (total 10 columns):\n",
      " #   Column            Non-Null Count  Dtype   \n",
      "---  ------            --------------  -----   \n",
      " 0   Transaction_date  2500 non-null   category\n",
      " 1   Gender            2500 non-null   category\n",
      " 2   Age               2500 non-null   float64 \n",
      " 3   Marital_status    2500 non-null   category\n",
      " 4   State_names       2500 non-null   category\n",
      " 5   Segment           2500 non-null   category\n",
      " 6   Employees_status  2500 non-null   category\n",
      " 7   Payment_method    2500 non-null   category\n",
      " 8   Referal           2500 non-null   float64 \n",
      " 9   Amount_spent      2500 non-null   float64 \n",
      "dtypes: category(7), float64(3)\n",
      "memory usage: 189.1 KB\n"
     ]
    }
   ],
   "source": [
    "# convert object to category\n",
    "df_memory.info(memory_usage=\"deep\")"
   ]
  },
  {
   "cell_type": "markdown",
   "id": "72f86870",
   "metadata": {},
   "source": [
    "Now its reduce 1.15 megabytes to 216.6 kb. It's almost reduced 5.5 times."
   ]
  },
  {
   "cell_type": "markdown",
   "id": "9c335150",
   "metadata": {},
   "source": [
    "Change int64 or float64 to int 32, 16, or 8\n",
    "By default, pandas store numeric values to int64 or float64. Which takes more memory. If we have to store small numbers then we can change to 64 to 32, 16, and so on. For example, our Referal columns have only 0 and 1 values so for that we don't need to store at float64. so now we change it to float16."
   ]
  },
  {
   "cell_type": "code",
   "execution_count": 588,
   "id": "a00e4bbb",
   "metadata": {},
   "outputs": [],
   "source": [
    "# Change Referal column datatypes\n",
    "df_memory['Referal'] = df_memory['Referal'].astype('float32')"
   ]
  },
  {
   "cell_type": "code",
   "execution_count": 589,
   "id": "b6aaebdb",
   "metadata": {},
   "outputs": [
    {
     "name": "stdout",
     "output_type": "stream",
     "text": [
      "<class 'pandas.core.frame.DataFrame'>\n",
      "Int64Index: 2500 entries, 0 to 2511\n",
      "Data columns (total 10 columns):\n",
      " #   Column            Non-Null Count  Dtype   \n",
      "---  ------            --------------  -----   \n",
      " 0   Transaction_date  2500 non-null   category\n",
      " 1   Gender            2500 non-null   category\n",
      " 2   Age               2500 non-null   float64 \n",
      " 3   Marital_status    2500 non-null   category\n",
      " 4   State_names       2500 non-null   category\n",
      " 5   Segment           2500 non-null   category\n",
      " 6   Employees_status  2500 non-null   category\n",
      " 7   Payment_method    2500 non-null   category\n",
      " 8   Referal           2500 non-null   float32 \n",
      " 9   Amount_spent      2500 non-null   float64 \n",
      "dtypes: category(7), float32(1), float64(2)\n",
      "memory usage: 179.3 KB\n"
     ]
    }
   ],
   "source": [
    "# convert object to category\n",
    "df_memory.info(memory_usage=\"deep\")"
   ]
  },
  {
   "cell_type": "markdown",
   "id": "e78ac3ae",
   "metadata": {},
   "source": [
    "After changing only one column's data types we reduce 216 kb to 179 kb."
   ]
  },
  {
   "cell_type": "code",
   "execution_count": 590,
   "id": "bc6e667f",
   "metadata": {},
   "outputs": [],
   "source": [
    "df.to_excel('online_store_customer_data_cleaned.xlsx')"
   ]
  }
 ],
 "metadata": {
  "kernelspec": {
   "display_name": "Python 3 (ipykernel)",
   "language": "python",
   "name": "python3"
  },
  "language_info": {
   "codemirror_mode": {
    "name": "ipython",
    "version": 3
   },
   "file_extension": ".py",
   "mimetype": "text/x-python",
   "name": "python",
   "nbconvert_exporter": "python",
   "pygments_lexer": "ipython3",
   "version": "3.9.13"
  }
 },
 "nbformat": 4,
 "nbformat_minor": 5
}
