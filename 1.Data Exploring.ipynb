{
 "cells": [
  {
   "cell_type": "markdown",
   "id": "d0390927",
   "metadata": {},
   "source": [
    "# #Import libraries "
   ]
  },
  {
   "cell_type": "code",
   "execution_count": 39,
   "id": "a97ac4ac",
   "metadata": {},
   "outputs": [],
   "source": [
    "import numpy as np\n",
    "import pandas as pd"
   ]
  },
  {
   "cell_type": "code",
   "execution_count": 40,
   "id": "51d940ba",
   "metadata": {},
   "outputs": [],
   "source": [
    "# we can set numbers for how many rows and columns will be displayed\n",
    "\n",
    "pd.set_option('display.min_rows', 10) \n",
    "pd.set_option('display.max_columns', 20)"
   ]
  },
  {
   "cell_type": "markdown",
   "id": "55bfe4b6",
   "metadata": {},
   "source": [
    "# Loading Data Into a Pandas Data Frame "
   ]
  },
  {
   "cell_type": "markdown",
   "id": "0311e88e",
   "metadata": {},
   "source": [
    "Reading CSV file"
   ]
  },
  {
   "cell_type": "code",
   "execution_count": 41,
   "id": "eba73fad",
   "metadata": {},
   "outputs": [
    {
     "data": {
      "text/html": [
       "<div>\n",
       "<style scoped>\n",
       "    .dataframe tbody tr th:only-of-type {\n",
       "        vertical-align: middle;\n",
       "    }\n",
       "\n",
       "    .dataframe tbody tr th {\n",
       "        vertical-align: top;\n",
       "    }\n",
       "\n",
       "    .dataframe thead th {\n",
       "        text-align: right;\n",
       "    }\n",
       "</style>\n",
       "<table border=\"1\" class=\"dataframe\">\n",
       "  <thead>\n",
       "    <tr style=\"text-align: right;\">\n",
       "      <th></th>\n",
       "      <th>Transaction_date</th>\n",
       "      <th>Transaction_ID</th>\n",
       "      <th>Gender</th>\n",
       "      <th>Age</th>\n",
       "      <th>Marital_status</th>\n",
       "      <th>State_names</th>\n",
       "      <th>Segment</th>\n",
       "      <th>Employees_status</th>\n",
       "      <th>Payment_method</th>\n",
       "      <th>Referal</th>\n",
       "      <th>Amount_spent</th>\n",
       "    </tr>\n",
       "  </thead>\n",
       "  <tbody>\n",
       "    <tr>\n",
       "      <th>0</th>\n",
       "      <td>1/1/2019</td>\n",
       "      <td>151200</td>\n",
       "      <td>Female</td>\n",
       "      <td>19.0</td>\n",
       "      <td>Single</td>\n",
       "      <td>Kansas</td>\n",
       "      <td>Basic</td>\n",
       "      <td>Unemployment</td>\n",
       "      <td>Other</td>\n",
       "      <td>1.0</td>\n",
       "      <td>2051.36</td>\n",
       "    </tr>\n",
       "    <tr>\n",
       "      <th>1</th>\n",
       "      <td>1/1/2019</td>\n",
       "      <td>151201</td>\n",
       "      <td>Male</td>\n",
       "      <td>49.0</td>\n",
       "      <td>Single</td>\n",
       "      <td>Illinois</td>\n",
       "      <td>Basic</td>\n",
       "      <td>self-employed</td>\n",
       "      <td>Card</td>\n",
       "      <td>0.0</td>\n",
       "      <td>544.04</td>\n",
       "    </tr>\n",
       "    <tr>\n",
       "      <th>2</th>\n",
       "      <td>1/1/2019</td>\n",
       "      <td>151202</td>\n",
       "      <td>Male</td>\n",
       "      <td>63.0</td>\n",
       "      <td>Married</td>\n",
       "      <td>New Mexico</td>\n",
       "      <td>Basic</td>\n",
       "      <td>workers</td>\n",
       "      <td>PayPal</td>\n",
       "      <td>1.0</td>\n",
       "      <td>1572.60</td>\n",
       "    </tr>\n",
       "  </tbody>\n",
       "</table>\n",
       "</div>"
      ],
      "text/plain": [
       "  Transaction_date  Transaction_ID  Gender   Age Marital_status State_names  \\\n",
       "0         1/1/2019          151200  Female  19.0         Single      Kansas   \n",
       "1         1/1/2019          151201    Male  49.0         Single    Illinois   \n",
       "2         1/1/2019          151202    Male  63.0        Married  New Mexico   \n",
       "\n",
       "  Segment Employees_status Payment_method  Referal  Amount_spent  \n",
       "0   Basic     Unemployment          Other      1.0       2051.36  \n",
       "1   Basic    self-employed           Card      0.0        544.04  \n",
       "2   Basic          workers         PayPal      1.0       1572.60  "
      ]
     },
     "execution_count": 41,
     "metadata": {},
     "output_type": "execute_result"
    }
   ],
   "source": [
    "# read csv file\n",
    "\n",
    "df = pd.read_csv('online_store_customer_data.csv')\n",
    "df.head(3)"
   ]
  },
  {
   "cell_type": "markdown",
   "id": "c622d981",
   "metadata": {},
   "source": [
    "# Data Preprocessing"
   ]
  },
  {
   "cell_type": "markdown",
   "id": "dd2e152c",
   "metadata": {},
   "source": [
    "Data preprocessing is the process of making raw data to clean data. This is the most crucial part of data the science. In this section, we will explore data first then we remove unwanted columns, remove duplicates, handle missing data, etc. After this step, we get clean data from raw data."
   ]
  },
  {
   "cell_type": "markdown",
   "id": "9166c335",
   "metadata": {},
   "source": [
    "### Data Exploring"
   ]
  },
  {
   "cell_type": "code",
   "execution_count": 42,
   "id": "398e9cc0",
   "metadata": {},
   "outputs": [
    {
     "data": {
      "text/html": [
       "<div>\n",
       "<style scoped>\n",
       "    .dataframe tbody tr th:only-of-type {\n",
       "        vertical-align: middle;\n",
       "    }\n",
       "\n",
       "    .dataframe tbody tr th {\n",
       "        vertical-align: top;\n",
       "    }\n",
       "\n",
       "    .dataframe thead th {\n",
       "        text-align: right;\n",
       "    }\n",
       "</style>\n",
       "<table border=\"1\" class=\"dataframe\">\n",
       "  <thead>\n",
       "    <tr style=\"text-align: right;\">\n",
       "      <th></th>\n",
       "      <th>Transaction_date</th>\n",
       "      <th>Transaction_ID</th>\n",
       "      <th>Gender</th>\n",
       "      <th>Age</th>\n",
       "      <th>Marital_status</th>\n",
       "      <th>State_names</th>\n",
       "      <th>Segment</th>\n",
       "      <th>Employees_status</th>\n",
       "      <th>Payment_method</th>\n",
       "      <th>Referal</th>\n",
       "      <th>Amount_spent</th>\n",
       "    </tr>\n",
       "  </thead>\n",
       "  <tbody>\n",
       "    <tr>\n",
       "      <th>0</th>\n",
       "      <td>1/1/2019</td>\n",
       "      <td>151200</td>\n",
       "      <td>Female</td>\n",
       "      <td>19.0</td>\n",
       "      <td>Single</td>\n",
       "      <td>Kansas</td>\n",
       "      <td>Basic</td>\n",
       "      <td>Unemployment</td>\n",
       "      <td>Other</td>\n",
       "      <td>1.0</td>\n",
       "      <td>2051.36</td>\n",
       "    </tr>\n",
       "    <tr>\n",
       "      <th>1</th>\n",
       "      <td>1/1/2019</td>\n",
       "      <td>151201</td>\n",
       "      <td>Male</td>\n",
       "      <td>49.0</td>\n",
       "      <td>Single</td>\n",
       "      <td>Illinois</td>\n",
       "      <td>Basic</td>\n",
       "      <td>self-employed</td>\n",
       "      <td>Card</td>\n",
       "      <td>0.0</td>\n",
       "      <td>544.04</td>\n",
       "    </tr>\n",
       "    <tr>\n",
       "      <th>2</th>\n",
       "      <td>1/1/2019</td>\n",
       "      <td>151202</td>\n",
       "      <td>Male</td>\n",
       "      <td>63.0</td>\n",
       "      <td>Married</td>\n",
       "      <td>New Mexico</td>\n",
       "      <td>Basic</td>\n",
       "      <td>workers</td>\n",
       "      <td>PayPal</td>\n",
       "      <td>1.0</td>\n",
       "      <td>1572.60</td>\n",
       "    </tr>\n",
       "  </tbody>\n",
       "</table>\n",
       "</div>"
      ],
      "text/plain": [
       "  Transaction_date  Transaction_ID  Gender   Age Marital_status State_names  \\\n",
       "0         1/1/2019          151200  Female  19.0         Single      Kansas   \n",
       "1         1/1/2019          151201    Male  49.0         Single    Illinois   \n",
       "2         1/1/2019          151202    Male  63.0        Married  New Mexico   \n",
       "\n",
       "  Segment Employees_status Payment_method  Referal  Amount_spent  \n",
       "0   Basic     Unemployment          Other      1.0       2051.36  \n",
       "1   Basic    self-employed           Card      0.0        544.04  \n",
       "2   Basic          workers         PayPal      1.0       1572.60  "
      ]
     },
     "execution_count": 42,
     "metadata": {},
     "output_type": "execute_result"
    }
   ],
   "source": [
    "# display first 5 rows\n",
    "df.head(3)"
   ]
  },
  {
   "cell_type": "code",
   "execution_count": 43,
   "id": "bc1c27e3",
   "metadata": {},
   "outputs": [
    {
     "data": {
      "text/html": [
       "<div>\n",
       "<style scoped>\n",
       "    .dataframe tbody tr th:only-of-type {\n",
       "        vertical-align: middle;\n",
       "    }\n",
       "\n",
       "    .dataframe tbody tr th {\n",
       "        vertical-align: top;\n",
       "    }\n",
       "\n",
       "    .dataframe thead th {\n",
       "        text-align: right;\n",
       "    }\n",
       "</style>\n",
       "<table border=\"1\" class=\"dataframe\">\n",
       "  <thead>\n",
       "    <tr style=\"text-align: right;\">\n",
       "      <th></th>\n",
       "      <th>Transaction_date</th>\n",
       "      <th>Transaction_ID</th>\n",
       "      <th>Gender</th>\n",
       "      <th>Age</th>\n",
       "      <th>Marital_status</th>\n",
       "      <th>State_names</th>\n",
       "      <th>Segment</th>\n",
       "      <th>Employees_status</th>\n",
       "      <th>Payment_method</th>\n",
       "      <th>Referal</th>\n",
       "      <th>Amount_spent</th>\n",
       "    </tr>\n",
       "  </thead>\n",
       "  <tbody>\n",
       "    <tr>\n",
       "      <th>2506</th>\n",
       "      <td>4/30/2021</td>\n",
       "      <td>153694</td>\n",
       "      <td>Male</td>\n",
       "      <td>34.0</td>\n",
       "      <td>Single</td>\n",
       "      <td>Florida</td>\n",
       "      <td>Missing</td>\n",
       "      <td>Employees</td>\n",
       "      <td>Other</td>\n",
       "      <td>1.0</td>\n",
       "      <td>286.82</td>\n",
       "    </tr>\n",
       "    <tr>\n",
       "      <th>2507</th>\n",
       "      <td>5/1/2021</td>\n",
       "      <td>153695</td>\n",
       "      <td>Female</td>\n",
       "      <td>57.0</td>\n",
       "      <td>Single</td>\n",
       "      <td>South Carolina</td>\n",
       "      <td>Platinum</td>\n",
       "      <td>self-employed</td>\n",
       "      <td>Card</td>\n",
       "      <td>0.0</td>\n",
       "      <td>150.10</td>\n",
       "    </tr>\n",
       "    <tr>\n",
       "      <th>2508</th>\n",
       "      <td>5/1/2021</td>\n",
       "      <td>153696</td>\n",
       "      <td>Female</td>\n",
       "      <td>36.0</td>\n",
       "      <td>Married</td>\n",
       "      <td>Hawaii</td>\n",
       "      <td>Silver</td>\n",
       "      <td>self-employed</td>\n",
       "      <td>PayPal</td>\n",
       "      <td>1.0</td>\n",
       "      <td>708.88</td>\n",
       "    </tr>\n",
       "    <tr>\n",
       "      <th>2509</th>\n",
       "      <td>5/1/2021</td>\n",
       "      <td>153697</td>\n",
       "      <td>Male</td>\n",
       "      <td>22.0</td>\n",
       "      <td>Single</td>\n",
       "      <td>South Carolina</td>\n",
       "      <td>Basic</td>\n",
       "      <td>workers</td>\n",
       "      <td>PayPal</td>\n",
       "      <td>1.0</td>\n",
       "      <td>2030.07</td>\n",
       "    </tr>\n",
       "    <tr>\n",
       "      <th>2510</th>\n",
       "      <td>5/1/2021</td>\n",
       "      <td>153698</td>\n",
       "      <td>NaN</td>\n",
       "      <td>44.0</td>\n",
       "      <td>Single</td>\n",
       "      <td>New York</td>\n",
       "      <td>Basic</td>\n",
       "      <td>Employees</td>\n",
       "      <td>PayPal</td>\n",
       "      <td>0.0</td>\n",
       "      <td>1909.77</td>\n",
       "    </tr>\n",
       "    <tr>\n",
       "      <th>2511</th>\n",
       "      <td>5/1/2021</td>\n",
       "      <td>153699</td>\n",
       "      <td>Male</td>\n",
       "      <td>48.0</td>\n",
       "      <td>Single</td>\n",
       "      <td>California</td>\n",
       "      <td>Silver</td>\n",
       "      <td>workers</td>\n",
       "      <td>PayPal</td>\n",
       "      <td>1.0</td>\n",
       "      <td>1073.15</td>\n",
       "    </tr>\n",
       "  </tbody>\n",
       "</table>\n",
       "</div>"
      ],
      "text/plain": [
       "     Transaction_date  Transaction_ID  Gender   Age Marital_status  \\\n",
       "2506        4/30/2021          153694    Male  34.0         Single   \n",
       "2507         5/1/2021          153695  Female  57.0         Single   \n",
       "2508         5/1/2021          153696  Female  36.0        Married   \n",
       "2509         5/1/2021          153697    Male  22.0         Single   \n",
       "2510         5/1/2021          153698     NaN  44.0         Single   \n",
       "2511         5/1/2021          153699    Male  48.0         Single   \n",
       "\n",
       "         State_names   Segment Employees_status Payment_method  Referal  \\\n",
       "2506         Florida   Missing        Employees          Other      1.0   \n",
       "2507  South Carolina  Platinum    self-employed           Card      0.0   \n",
       "2508          Hawaii    Silver    self-employed         PayPal      1.0   \n",
       "2509  South Carolina     Basic          workers         PayPal      1.0   \n",
       "2510        New York     Basic        Employees         PayPal      0.0   \n",
       "2511      California    Silver          workers         PayPal      1.0   \n",
       "\n",
       "      Amount_spent  \n",
       "2506        286.82  \n",
       "2507        150.10  \n",
       "2508        708.88  \n",
       "2509       2030.07  \n",
       "2510       1909.77  \n",
       "2511       1073.15  "
      ]
     },
     "execution_count": 43,
     "metadata": {},
     "output_type": "execute_result"
    }
   ],
   "source": [
    "# display last 4 rows\n",
    "df.tail(6)"
   ]
  },
  {
   "cell_type": "code",
   "execution_count": 44,
   "id": "04fb1d68",
   "metadata": {},
   "outputs": [
    {
     "data": {
      "text/html": [
       "<div>\n",
       "<style scoped>\n",
       "    .dataframe tbody tr th:only-of-type {\n",
       "        vertical-align: middle;\n",
       "    }\n",
       "\n",
       "    .dataframe tbody tr th {\n",
       "        vertical-align: top;\n",
       "    }\n",
       "\n",
       "    .dataframe thead th {\n",
       "        text-align: right;\n",
       "    }\n",
       "</style>\n",
       "<table border=\"1\" class=\"dataframe\">\n",
       "  <thead>\n",
       "    <tr style=\"text-align: right;\">\n",
       "      <th></th>\n",
       "      <th>Transaction_date</th>\n",
       "      <th>Transaction_ID</th>\n",
       "      <th>Gender</th>\n",
       "      <th>Age</th>\n",
       "      <th>Marital_status</th>\n",
       "      <th>State_names</th>\n",
       "      <th>Segment</th>\n",
       "      <th>Employees_status</th>\n",
       "      <th>Payment_method</th>\n",
       "      <th>Referal</th>\n",
       "      <th>Amount_spent</th>\n",
       "    </tr>\n",
       "  </thead>\n",
       "  <tbody>\n",
       "    <tr>\n",
       "      <th>1605</th>\n",
       "      <td>6/25/2020</td>\n",
       "      <td>152793</td>\n",
       "      <td>Female</td>\n",
       "      <td>38.0</td>\n",
       "      <td>Single</td>\n",
       "      <td>Maryland</td>\n",
       "      <td>Basic</td>\n",
       "      <td>Employees</td>\n",
       "      <td>Card</td>\n",
       "      <td>1.0</td>\n",
       "      <td>NaN</td>\n",
       "    </tr>\n",
       "    <tr>\n",
       "      <th>1403</th>\n",
       "      <td>4/11/2020</td>\n",
       "      <td>152591</td>\n",
       "      <td>Female</td>\n",
       "      <td>NaN</td>\n",
       "      <td>Married</td>\n",
       "      <td>Pennsylvania</td>\n",
       "      <td>Basic</td>\n",
       "      <td>workers</td>\n",
       "      <td>PayPal</td>\n",
       "      <td>1.0</td>\n",
       "      <td>962.34</td>\n",
       "    </tr>\n",
       "    <tr>\n",
       "      <th>882</th>\n",
       "      <td>10/15/2019</td>\n",
       "      <td>152070</td>\n",
       "      <td>Male</td>\n",
       "      <td>51.0</td>\n",
       "      <td>Married</td>\n",
       "      <td>Alabama</td>\n",
       "      <td>Platinum</td>\n",
       "      <td>self-employed</td>\n",
       "      <td>Other</td>\n",
       "      <td>1.0</td>\n",
       "      <td>1367.77</td>\n",
       "    </tr>\n",
       "    <tr>\n",
       "      <th>1992</th>\n",
       "      <td>10/27/2020</td>\n",
       "      <td>153180</td>\n",
       "      <td>Male</td>\n",
       "      <td>42.0</td>\n",
       "      <td>Married</td>\n",
       "      <td>Delaware</td>\n",
       "      <td>Missing</td>\n",
       "      <td>self-employed</td>\n",
       "      <td>Card</td>\n",
       "      <td>1.0</td>\n",
       "      <td>190.93</td>\n",
       "    </tr>\n",
       "    <tr>\n",
       "      <th>1811</th>\n",
       "      <td>8/30/2020</td>\n",
       "      <td>152999</td>\n",
       "      <td>Male</td>\n",
       "      <td>71.0</td>\n",
       "      <td>Married</td>\n",
       "      <td>Wyoming</td>\n",
       "      <td>Basic</td>\n",
       "      <td>Unemployment</td>\n",
       "      <td>PayPal</td>\n",
       "      <td>0.0</td>\n",
       "      <td>1647.30</td>\n",
       "    </tr>\n",
       "    <tr>\n",
       "      <th>1235</th>\n",
       "      <td>2/6/2020</td>\n",
       "      <td>152423</td>\n",
       "      <td>Male</td>\n",
       "      <td>51.0</td>\n",
       "      <td>Married</td>\n",
       "      <td>Ohio</td>\n",
       "      <td>Gold</td>\n",
       "      <td>workers</td>\n",
       "      <td>Other</td>\n",
       "      <td>0.0</td>\n",
       "      <td>295.67</td>\n",
       "    </tr>\n",
       "  </tbody>\n",
       "</table>\n",
       "</div>"
      ],
      "text/plain": [
       "     Transaction_date  Transaction_ID  Gender   Age Marital_status  \\\n",
       "1605        6/25/2020          152793  Female  38.0         Single   \n",
       "1403        4/11/2020          152591  Female   NaN        Married   \n",
       "882        10/15/2019          152070    Male  51.0        Married   \n",
       "1992       10/27/2020          153180    Male  42.0        Married   \n",
       "1811        8/30/2020          152999    Male  71.0        Married   \n",
       "1235         2/6/2020          152423    Male  51.0        Married   \n",
       "\n",
       "       State_names   Segment Employees_status Payment_method  Referal  \\\n",
       "1605      Maryland     Basic        Employees           Card      1.0   \n",
       "1403  Pennsylvania     Basic          workers         PayPal      1.0   \n",
       "882        Alabama  Platinum    self-employed          Other      1.0   \n",
       "1992      Delaware   Missing    self-employed           Card      1.0   \n",
       "1811       Wyoming     Basic     Unemployment         PayPal      0.0   \n",
       "1235          Ohio      Gold          workers          Other      0.0   \n",
       "\n",
       "      Amount_spent  \n",
       "1605           NaN  \n",
       "1403        962.34  \n",
       "882        1367.77  \n",
       "1992        190.93  \n",
       "1811       1647.30  \n",
       "1235        295.67  "
      ]
     },
     "execution_count": 44,
     "metadata": {},
     "output_type": "execute_result"
    }
   ],
   "source": [
    "# Display random 6 sample rows\n",
    "#random sample generting\n",
    "df.sample(6)"
   ]
  },
  {
   "cell_type": "code",
   "execution_count": 45,
   "id": "7a6425dd",
   "metadata": {},
   "outputs": [
    {
     "name": "stdout",
     "output_type": "stream",
     "text": [
      "<class 'pandas.core.frame.DataFrame'>\n",
      "RangeIndex: 2512 entries, 0 to 2511\n",
      "Data columns (total 11 columns):\n",
      " #   Column            Non-Null Count  Dtype  \n",
      "---  ------            --------------  -----  \n",
      " 0   Transaction_date  2512 non-null   object \n",
      " 1   Transaction_ID    2512 non-null   int64  \n",
      " 2   Gender            2484 non-null   object \n",
      " 3   Age               2470 non-null   float64\n",
      " 4   Marital_status    2512 non-null   object \n",
      " 5   State_names       2512 non-null   object \n",
      " 6   Segment           2512 non-null   object \n",
      " 7   Employees_status  2486 non-null   object \n",
      " 8   Payment_method    2512 non-null   object \n",
      " 9   Referal           2357 non-null   float64\n",
      " 10  Amount_spent      2270 non-null   float64\n",
      "dtypes: float64(3), int64(1), object(7)\n",
      "memory usage: 216.0+ KB\n"
     ]
    }
   ],
   "source": [
    "df.info()"
   ]
  },
  {
   "cell_type": "code",
   "execution_count": 46,
   "id": "df112290",
   "metadata": {},
   "outputs": [
    {
     "data": {
      "text/plain": [
       "Transaction_date     object\n",
       "Transaction_ID        int64\n",
       "Gender               object\n",
       "Age                 float64\n",
       "Marital_status       object\n",
       "State_names          object\n",
       "Segment              object\n",
       "Employees_status     object\n",
       "Payment_method       object\n",
       "Referal             float64\n",
       "Amount_spent        float64\n",
       "dtype: object"
      ]
     },
     "execution_count": 46,
     "metadata": {},
     "output_type": "execute_result"
    }
   ],
   "source": [
    "# display datatypes\n",
    "df.dtypes"
   ]
  },
  {
   "cell_type": "code",
   "execution_count": 47,
   "id": "881b2060",
   "metadata": {},
   "outputs": [
    {
     "data": {
      "text/plain": [
       "object     7\n",
       "float64    3\n",
       "int64      1\n",
       "dtype: int64"
      ]
     },
     "execution_count": 47,
     "metadata": {},
     "output_type": "execute_result"
    }
   ],
   "source": [
    "df.dtypes.value_counts()"
   ]
  },
  {
   "cell_type": "code",
   "execution_count": 48,
   "id": "fe0700df",
   "metadata": {},
   "outputs": [
    {
     "data": {
      "text/plain": [
       "(2512, 11)"
      ]
     },
     "execution_count": 48,
     "metadata": {},
     "output_type": "execute_result"
    }
   ],
   "source": [
    "df.shape"
   ]
  },
  {
   "cell_type": "code",
   "execution_count": 49,
   "id": "1a346103",
   "metadata": {},
   "outputs": [
    {
     "data": {
      "text/plain": [
       "Index(['Transaction_date', 'Transaction_ID', 'Gender', 'Age', 'Marital_status',\n",
       "       'State_names', 'Segment', 'Employees_status', 'Payment_method',\n",
       "       'Referal', 'Amount_spent'],\n",
       "      dtype='object')"
      ]
     },
     "execution_count": 49,
     "metadata": {},
     "output_type": "execute_result"
    }
   ],
   "source": [
    "df.columns"
   ]
  },
  {
   "cell_type": "code",
   "execution_count": 50,
   "id": "66acafd6",
   "metadata": {},
   "outputs": [
    {
     "data": {
      "text/plain": [
       "0    19.0\n",
       "1    49.0\n",
       "2    63.0\n",
       "Name: Age, dtype: float64"
      ]
     },
     "execution_count": 50,
     "metadata": {},
     "output_type": "execute_result"
    }
   ],
   "source": [
    "# display Age columns first 3 rows data\n",
    "df['Age'].head(3)"
   ]
  },
  {
   "cell_type": "code",
   "execution_count": 51,
   "id": "39bba208",
   "metadata": {},
   "outputs": [
    {
     "data": {
      "text/html": [
       "<div>\n",
       "<style scoped>\n",
       "    .dataframe tbody tr th:only-of-type {\n",
       "        vertical-align: middle;\n",
       "    }\n",
       "\n",
       "    .dataframe tbody tr th {\n",
       "        vertical-align: top;\n",
       "    }\n",
       "\n",
       "    .dataframe thead th {\n",
       "        text-align: right;\n",
       "    }\n",
       "</style>\n",
       "<table border=\"1\" class=\"dataframe\">\n",
       "  <thead>\n",
       "    <tr style=\"text-align: right;\">\n",
       "      <th></th>\n",
       "      <th>Age</th>\n",
       "      <th>Transaction_date</th>\n",
       "      <th>Gender</th>\n",
       "    </tr>\n",
       "  </thead>\n",
       "  <tbody>\n",
       "    <tr>\n",
       "      <th>0</th>\n",
       "      <td>19.0</td>\n",
       "      <td>1/1/2019</td>\n",
       "      <td>Female</td>\n",
       "    </tr>\n",
       "    <tr>\n",
       "      <th>1</th>\n",
       "      <td>49.0</td>\n",
       "      <td>1/1/2019</td>\n",
       "      <td>Male</td>\n",
       "    </tr>\n",
       "    <tr>\n",
       "      <th>2</th>\n",
       "      <td>63.0</td>\n",
       "      <td>1/1/2019</td>\n",
       "      <td>Male</td>\n",
       "    </tr>\n",
       "    <tr>\n",
       "      <th>3</th>\n",
       "      <td>18.0</td>\n",
       "      <td>1/1/2019</td>\n",
       "      <td>NaN</td>\n",
       "    </tr>\n",
       "  </tbody>\n",
       "</table>\n",
       "</div>"
      ],
      "text/plain": [
       "    Age Transaction_date  Gender\n",
       "0  19.0         1/1/2019  Female\n",
       "1  49.0         1/1/2019    Male\n",
       "2  63.0         1/1/2019    Male\n",
       "3  18.0         1/1/2019     NaN"
      ]
     },
     "execution_count": 51,
     "metadata": {},
     "output_type": "execute_result"
    }
   ],
   "source": [
    "# display first 4 rows of Age, Transaction_date and Gender columns\n",
    "df[['Age', 'Transaction_date', 'Gender']].head(4)"
   ]
  },
  {
   "cell_type": "code",
   "execution_count": 52,
   "id": "9e090f43",
   "metadata": {},
   "outputs": [
    {
     "data": {
      "text/html": [
       "<div>\n",
       "<style scoped>\n",
       "    .dataframe tbody tr th:only-of-type {\n",
       "        vertical-align: middle;\n",
       "    }\n",
       "\n",
       "    .dataframe tbody tr th {\n",
       "        vertical-align: top;\n",
       "    }\n",
       "\n",
       "    .dataframe thead th {\n",
       "        text-align: right;\n",
       "    }\n",
       "</style>\n",
       "<table border=\"1\" class=\"dataframe\">\n",
       "  <thead>\n",
       "    <tr style=\"text-align: right;\">\n",
       "      <th></th>\n",
       "      <th>Transaction_date</th>\n",
       "      <th>Transaction_ID</th>\n",
       "      <th>Gender</th>\n",
       "      <th>Age</th>\n",
       "      <th>Marital_status</th>\n",
       "      <th>State_names</th>\n",
       "      <th>Segment</th>\n",
       "      <th>Employees_status</th>\n",
       "      <th>Payment_method</th>\n",
       "      <th>Referal</th>\n",
       "      <th>Amount_spent</th>\n",
       "    </tr>\n",
       "  </thead>\n",
       "  <tbody>\n",
       "    <tr>\n",
       "      <th>2510</th>\n",
       "      <td>5/1/2021</td>\n",
       "      <td>153698</td>\n",
       "      <td>NaN</td>\n",
       "      <td>44.0</td>\n",
       "      <td>Single</td>\n",
       "      <td>New York</td>\n",
       "      <td>Basic</td>\n",
       "      <td>Employees</td>\n",
       "      <td>PayPal</td>\n",
       "      <td>0.0</td>\n",
       "      <td>1909.77</td>\n",
       "    </tr>\n",
       "    <tr>\n",
       "      <th>2511</th>\n",
       "      <td>5/1/2021</td>\n",
       "      <td>153699</td>\n",
       "      <td>Male</td>\n",
       "      <td>48.0</td>\n",
       "      <td>Single</td>\n",
       "      <td>California</td>\n",
       "      <td>Silver</td>\n",
       "      <td>workers</td>\n",
       "      <td>PayPal</td>\n",
       "      <td>1.0</td>\n",
       "      <td>1073.15</td>\n",
       "    </tr>\n",
       "  </tbody>\n",
       "</table>\n",
       "</div>"
      ],
      "text/plain": [
       "     Transaction_date  Transaction_ID Gender   Age Marital_status State_names  \\\n",
       "2510         5/1/2021          153698    NaN  44.0         Single    New York   \n",
       "2511         5/1/2021          153699   Male  48.0         Single  California   \n",
       "\n",
       "     Segment Employees_status Payment_method  Referal  Amount_spent  \n",
       "2510   Basic        Employees         PayPal      0.0       1909.77  \n",
       "2511  Silver          workers         PayPal      1.0       1073.15  "
      ]
     },
     "execution_count": 52,
     "metadata": {},
     "output_type": "execute_result"
    }
   ],
   "source": [
    "# for display 3nd to 10th rows\n",
    "df[2:7]\n",
    "\n",
    "# for display starting to 10th\n",
    "df[:15]\n",
    "\n",
    "# for display last two rows\n",
    "df[-2:]"
   ]
  }
 ],
 "metadata": {
  "kernelspec": {
   "display_name": "Python 3 (ipykernel)",
   "language": "python",
   "name": "python3"
  },
  "language_info": {
   "codemirror_mode": {
    "name": "ipython",
    "version": 3
   },
   "file_extension": ".py",
   "mimetype": "text/x-python",
   "name": "python",
   "nbconvert_exporter": "python",
   "pygments_lexer": "ipython3",
   "version": "3.9.13"
  }
 },
 "nbformat": 4,
 "nbformat_minor": 5
}
